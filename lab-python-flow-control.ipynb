{
 "cells": [
  {
   "cell_type": "markdown",
   "id": "d3bfc191-8885-42ee-b0a0-bbab867c6f9f",
   "metadata": {
    "tags": []
   },
   "source": [
    "# Lab | Flow Control"
   ]
  },
  {
   "cell_type": "markdown",
   "id": "3851fcd1-cf98-4653-9c89-e003b7ec9400",
   "metadata": {},
   "source": [
    "## Exercise: Managing Customer Orders Optimized\n",
    "\n",
    "In the last lab, you were starting an online store that sells various products. To ensure smooth operations, you developed a program that manages customer orders and inventory.\n",
    "\n",
    "You did so without using flow control. Let's go a step further and improve this code.\n",
    "\n",
    "Follow the steps below to complete the exercise:\n",
    "\n",
    "1. Look at your code from the lab data structures, and improve repeated code with loops.\n",
    "\n",
    "2. Instead of asking the user to input the name of three products that a customer wants to order, do the following:\n",
    "    \n",
    "    a. Prompt the user to enter the name of a product that a customer wants to order.\n",
    "    \n",
    "    b. Add the product name to the \"customer_orders\" set.\n",
    "    \n",
    "    c. Ask the user if they want to add another product (yes/no).\n",
    "    \n",
    "    d. Continue the loop until the user does not want to add another product.\n",
    "\n",
    "3. Instead of updating the inventory by subtracting 1 from the quantity of each product, only do it for  the products that were ordered (those in \"customer_orders\")."
   ]
  },
  {
   "cell_type": "code",
   "execution_count": 21,
   "id": "45167154",
   "metadata": {},
   "outputs": [],
   "source": [
    "# 1.DONE Define a list called `products` that contains the following items: \"t-shirt\", \"mug\", \"hat\", \"book\", \"keychain\".\n",
    "products = [\"t-shirt\", \"mug\", \"hat\", \"book\", \"keychain\"]"
   ]
  },
  {
   "cell_type": "code",
   "execution_count": 22,
   "id": "93393552",
   "metadata": {},
   "outputs": [],
   "source": [
    "# 2.DONECreate an empty dictionary called `inventory`.\n",
    "inventory = {}"
   ]
  },
  {
   "cell_type": "code",
   "execution_count": 23,
   "id": "18855290",
   "metadata": {},
   "outputs": [
    {
     "name": "stdout",
     "output_type": "stream",
     "text": [
      "{'t-shirt': 10, 'mug': 10, 'hat': 10, 'book': 10, 'keychain': 10}\n"
     ]
    }
   ],
   "source": [
    "#3.DONEAsk the user to input the quantity of each product available in the inventory. Use the product names from the `products` list as keys in the `inventory` dictionary and assign the respective quantities as values\n",
    "\n",
    "for product in products:\n",
    "    product_quantity = int(input(f\"Enter the quantity of {product}: \"))\n",
    "    inventory[product] = product_quantity\n",
    "\n",
    "print(inventory)"
   ]
  },
  {
   "cell_type": "code",
   "execution_count": 24,
   "id": "249c6615",
   "metadata": {},
   "outputs": [],
   "source": [
    "# 4.DONE Create an empty set called `customer_orders`.\n",
    "customer_orders = set()"
   ]
  },
  {
   "cell_type": "code",
   "execution_count": 26,
   "id": "82f5db85",
   "metadata": {},
   "outputs": [],
   "source": [
    "#5. DONE Instead of asking the user to input the name of three products that a customer wants to order, do the following:\n",
    "    \n",
    "   # a. Prompt the user to enter the name of a product that a customer wants to order.\n",
    "    \n",
    "    #b. Add the product name to the \"customer_orders\" set.\n",
    "    \n",
    "    #c. Ask the user if they want to add another product (yes/no).\n",
    "    \n",
    "   #d. Continue the loop until the user does not want to add another product.\n",
    "\n",
    "add_more = \"yes\"\n",
    "while True:\n",
    "    product = input(\"Enter the name of a product that a customer wants to order: \")\n",
    "    if product in products:\n",
    "        product_quantity = int(input(f\"Enter the quantity of {product}: \"))\n",
    "        customer_orders.add(product)\n",
    "    else:\n",
    "        print(\"Product doesn't exist.\")\n",
    "    \n",
    "    add_more = input(\"Do you want to add another product? (yes/no): \")\n",
    "    if add_more != \"yes\":\n",
    "        break\n",
    "\n",
    "    print(customer_orders)"
   ]
  },
  {
   "cell_type": "code",
   "execution_count": 27,
   "id": "1283c00e",
   "metadata": {},
   "outputs": [
    {
     "name": "stdout",
     "output_type": "stream",
     "text": [
      "{'book'}\n"
     ]
    }
   ],
   "source": [
    "#6. DONE Print the products in the `customer_orders` set.\n",
    "print(customer_orders)"
   ]
  },
  {
   "cell_type": "code",
   "execution_count": 28,
   "id": "82461ed4",
   "metadata": {},
   "outputs": [
    {
     "name": "stdout",
     "output_type": "stream",
     "text": [
      "(1, 20.0)\n"
     ]
    }
   ],
   "source": [
    "#7.  DONE Calculate the following order statistics:\n",
    "   #- Total_Products_Ordered: The total number products in the `customer_orders` set.\n",
    "   #- Percentage of Products Ordered: The percentage of products ordered compared to the total available products.\n",
    "#Store these statistics in a tuple called `order_status`.\n",
    "total_products_ordered = len(customer_orders)\n",
    "percentage_products_ordered = (total_products_ordered/len(products))*100\n",
    "order_status = (total_products_ordered, percentage_products_ordered)\n",
    "print(order_status)"
   ]
  },
  {
   "cell_type": "code",
   "execution_count": 29,
   "id": "315d209c",
   "metadata": {},
   "outputs": [
    {
     "name": "stdout",
     "output_type": "stream",
     "text": [
      "Total Products Ordered: 1\n",
      "Percentage of Products Ordered:20.0%\n"
     ]
    }
   ],
   "source": [
    "#8. DONE Print the order statistics using the following format:\n",
    "  # Order Statistics:\n",
    "   #Total Products Ordered: <total_products_ordered>\n",
    "   #Percentage of Products Ordered: <percentage_ordered>% \n",
    "\n",
    "print(f\"Total Products Ordered: {total_products_ordered}\")\n",
    "print(f\"Percentage of Products Ordered:{percentage_products_ordered }%\")"
   ]
  },
  {
   "cell_type": "code",
   "execution_count": 30,
   "id": "a049238e",
   "metadata": {},
   "outputs": [],
   "source": [
    "#9. DONE Update the inventory by subtracting 1 from the quantity of each product. Modify the `inventory` dictionary accordingly.\n",
    "for product in customer_orders:\n",
    "    if inventory[product] > 0:\n",
    "        inventory[product] -= 1\n",
    "    else:\n",
    "        print(f\"Sorry {product} is not in stock\")\n"
   ]
  },
  {
   "cell_type": "code",
   "execution_count": 31,
   "id": "d5ab0228",
   "metadata": {},
   "outputs": [
    {
     "name": "stdout",
     "output_type": "stream",
     "text": [
      "Updated inventory:\n",
      "t-shirt: 10\n",
      "mug: 10\n",
      "hat: 10\n",
      "book: 9\n",
      "keychain: 10\n"
     ]
    }
   ],
   "source": [
    "#10. DONE print Updated Inventory\n",
    "print(\"Updated inventory:\")\n",
    "for product, product_quantity in inventory.items():\n",
    "    print(f\"{product}: {product_quantity}\")"
   ]
  }
 ],
 "metadata": {
  "kernelspec": {
   "display_name": "base",
   "language": "python",
   "name": "python3"
  },
  "language_info": {
   "codemirror_mode": {
    "name": "ipython",
    "version": 3
   },
   "file_extension": ".py",
   "mimetype": "text/x-python",
   "name": "python",
   "nbconvert_exporter": "python",
   "pygments_lexer": "ipython3",
   "version": "3.11.7"
  }
 },
 "nbformat": 4,
 "nbformat_minor": 5
}
